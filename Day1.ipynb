{
 "cells": [
  {
   "cell_type": "code",
   "execution_count": 1,
   "id": "fc241a47",
   "metadata": {},
   "outputs": [
    {
     "name": "stdout",
     "output_type": "stream",
     "text": [
      "11\n",
      "<class 'int'>\n",
      "11.13\n",
      "<class 'float'>\n",
      "False\n",
      "<class 'bool'>\n",
      "Satya\n",
      "<class 'str'>\n"
     ]
    }
   ],
   "source": [
    "a=11\n",
    "print(a)\n",
    "print(type(a))\n",
    "b=11.13\n",
    "print(b)\n",
    "print(type(b))\n",
    "c=False\n",
    "print(c)\n",
    "print(type(c))\n",
    "d=\"Satya\"\n",
    "print(d)\n",
    "print(type(d))"
   ]
  },
  {
   "cell_type": "code",
   "execution_count": null,
   "id": "75f9647a",
   "metadata": {},
   "outputs": [],
   "source": []
  }
 ],
 "metadata": {
  "kernelspec": {
   "display_name": "Python 3 (ipykernel)",
   "language": "python",
   "name": "python3"
  },
  "language_info": {
   "codemirror_mode": {
    "name": "ipython",
    "version": 3
   },
   "file_extension": ".py",
   "mimetype": "text/x-python",
   "name": "python",
   "nbconvert_exporter": "python",
   "pygments_lexer": "ipython3",
   "version": "3.11.5"
  }
 },
 "nbformat": 4,
 "nbformat_minor": 5
}
