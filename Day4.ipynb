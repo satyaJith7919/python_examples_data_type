{
 "cells": [
  {
   "cell_type": "code",
   "execution_count": 1,
   "id": "ac2e8e22",
   "metadata": {},
   "outputs": [
    {
     "name": "stdout",
     "output_type": "stream",
     "text": [
      "Enter a positive integer (n): 911\n",
      "The sum of all even numbers between 1 and 911 is: 207480\n"
     ]
    }
   ],
   "source": [
    "def sum_of_even_numbers(n):\n",
    "    if n<2:\n",
    "        return 0\n",
    "    sum_even=0\n",
    "    for i in range(2,n+1,2):\n",
    "        sum_even+=i\n",
    "    return sum_even\n",
    "n=int(input(\"Enter a positive integer (n): \"))\n",
    "result=sum_of_even_numbers(n)\n",
    "print(\"The sum of all even numbers between 1 and\",n,\"is:\",result)"
   ]
  }
 ],
 "metadata": {
  "kernelspec": {
   "display_name": "Python 3 (ipykernel)",
   "language": "python",
   "name": "python3"
  },
  "language_info": {
   "codemirror_mode": {
    "name": "ipython",
    "version": 3
   },
   "file_extension": ".py",
   "mimetype": "text/x-python",
   "name": "python",
   "nbconvert_exporter": "python",
   "pygments_lexer": "ipython3",
   "version": "3.11.5"
  }
 },
 "nbformat": 4,
 "nbformat_minor": 5
}
