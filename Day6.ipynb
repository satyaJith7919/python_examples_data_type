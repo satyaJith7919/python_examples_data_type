{
 "cells": [
  {
   "cell_type": "code",
   "execution_count": 6,
   "id": "442ede4d",
   "metadata": {},
   "outputs": [
    {
     "name": "stdout",
     "output_type": "stream",
     "text": [
      "[3400, 1700, 6800, 4250, 2550, 5100, 7650]\n"
     ]
    }
   ],
   "source": [
    "dollars=[40,20,80,50,30,60,90]\n",
    "rupee=[]\n",
    "for i in dollars:\n",
    "    x=i*85\n",
    "    rupee.append(x)\n",
    "print(rupee)"
   ]
  },
  {
   "cell_type": "code",
   "execution_count": 7,
   "id": "c567992a",
   "metadata": {},
   "outputs": [
    {
     "data": {
      "text/plain": [
       "[31, 45, 66, 33, 90, 78, 67, 87, 89, 93, 25, 59, 9, 81]"
      ]
     },
     "execution_count": 7,
     "metadata": {},
     "output_type": "execute_result"
    }
   ],
   "source": [
    "num=[31,45,66,33,90,78,67,87,89,93,25,59,9,81]\n",
    "num"
   ]
  },
  {
   "cell_type": "code",
   "execution_count": 10,
   "id": "17e1bc1a",
   "metadata": {},
   "outputs": [
    {
     "name": "stdout",
     "output_type": "stream",
     "text": [
      "Even:  [66, 90, 78]\n",
      "Odd:  [31, 45, 33, 67, 87, 89, 93, 25, 59, 9, 81]\n"
     ]
    }
   ],
   "source": [
    "odd=[]\n",
    "even=[]\n",
    "for i in num:\n",
    "    if i%2==0:\n",
    "        even.append(i)\n",
    "    else:\n",
    "        odd.append(i)\n",
    "print(\"Even: \",even)\n",
    "print(\"Odd: \",odd)\n",
    "        "
   ]
  },
  {
   "cell_type": "code",
   "execution_count": 12,
   "id": "a869688c",
   "metadata": {},
   "outputs": [
    {
     "data": {
      "text/plain": [
       "[39, 45, 66, 93, 90, 78, 67, 87, 89, 93, 25, 59, 49, 91]"
      ]
     },
     "execution_count": 12,
     "metadata": {},
     "output_type": "execute_result"
    }
   ],
   "source": [
    "n1=[39,45,66,93,90,78,67,87,89,93,25,59,49,91]\n",
    "n1"
   ]
  },
  {
   "cell_type": "code",
   "execution_count": 13,
   "id": "35b8d6b8",
   "metadata": {},
   "outputs": [
    {
     "data": {
      "text/plain": [
       "[31, 45, 66, 13, 10, 78, 67, 87, 81, 13, 25, 51, 41, 11]"
      ]
     },
     "execution_count": 13,
     "metadata": {},
     "output_type": "execute_result"
    }
   ],
   "source": [
    "n2=[int(str(x).replace(\"9\",\"1\")) for x in n1]\n",
    "n2"
   ]
  },
  {
   "cell_type": "code",
   "execution_count": 14,
   "id": "69cbfa33",
   "metadata": {},
   "outputs": [
    {
     "data": {
      "text/plain": [
       "[31, 45, 66, 13, 10, 78, 67, 87, 81, 13, 25, 51, 41, 11]"
      ]
     },
     "execution_count": 14,
     "metadata": {},
     "output_type": "execute_result"
    }
   ],
   "source": [
    "n3=[]\n",
    "for i in n1:\n",
    "    a=str(i)\n",
    "    b=a.replace('9','1')\n",
    "    c=int(b)\n",
    "    n3.append(c)\n",
    "n3    "
   ]
  },
  {
   "cell_type": "code",
   "execution_count": null,
   "id": "14031054",
   "metadata": {},
   "outputs": [],
   "source": []
  }
 ],
 "metadata": {
  "kernelspec": {
   "display_name": "Python 3 (ipykernel)",
   "language": "python",
   "name": "python3"
  },
  "language_info": {
   "codemirror_mode": {
    "name": "ipython",
    "version": 3
   },
   "file_extension": ".py",
   "mimetype": "text/x-python",
   "name": "python",
   "nbconvert_exporter": "python",
   "pygments_lexer": "ipython3",
   "version": "3.11.5"
  }
 },
 "nbformat": 4,
 "nbformat_minor": 5
}
