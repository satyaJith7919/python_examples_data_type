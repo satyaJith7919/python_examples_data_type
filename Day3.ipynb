{
 "cells": [
  {
   "cell_type": "code",
   "execution_count": 1,
   "id": "f8329d38",
   "metadata": {},
   "outputs": [
    {
     "name": "stdout",
     "output_type": "stream",
     "text": [
      "Enter marks in the first subject: 89\n",
      "Enter marks in the second subject: 91\n",
      "Enter marks in the third subject: 93\n",
      "A\n"
     ]
    }
   ],
   "source": [
    "def calculate_grade(marks1,marks2,marks3):\n",
    "    average=(marks1+marks2+marks3)/3\n",
    "    if average>=90:\n",
    "        return \"A\"\n",
    "    elif average<90:\n",
    "        return \"B\"\n",
    "    elif 70<=average<80:\n",
    "        return \"C\"\n",
    "    else:\n",
    "        return \"Grade: Fail\"\n",
    "marks1=float(input(\"Enter marks in the first subject: \"))\n",
    "marks2=float(input(\"Enter marks in the second subject: \"))\n",
    "marks3=float(input(\"Enter marks in the third subject: \"))\n",
    "grade=calculate_grade(marks1,marks2,marks3)\n",
    "print(grade)"
   ]
  },
  {
   "cell_type": "code",
   "execution_count": null,
   "id": "2e4c57c9",
   "metadata": {},
   "outputs": [],
   "source": []
  }
 ],
 "metadata": {
  "kernelspec": {
   "display_name": "Python 3 (ipykernel)",
   "language": "python",
   "name": "python3"
  },
  "language_info": {
   "codemirror_mode": {
    "name": "ipython",
    "version": 3
   },
   "file_extension": ".py",
   "mimetype": "text/x-python",
   "name": "python",
   "nbconvert_exporter": "python",
   "pygments_lexer": "ipython3",
   "version": "3.11.5"
  }
 },
 "nbformat": 4,
 "nbformat_minor": 5
}
