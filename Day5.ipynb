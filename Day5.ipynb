{
 "cells": [
  {
   "cell_type": "code",
   "execution_count": 1,
   "id": "d93878ca",
   "metadata": {},
   "outputs": [
    {
     "name": "stdout",
     "output_type": "stream",
     "text": [
      "Enter a positive interger: 11\n",
      "Numbers from 1 to 11 :\n",
      "1\n",
      "2\n",
      "3\n",
      "4\n",
      "5\n",
      "6\n",
      "7\n",
      "8\n",
      "9\n",
      "10\n",
      "11\n",
      "Sum of numbers from 1 to 11 : 11\n"
     ]
    }
   ],
   "source": [
    "def print_sum(n):\n",
    "    if n<=0:\n",
    "        print(\"Please Enter a positive integer.\")\n",
    "        return\n",
    "    print(\"Numbers from 1 to\",n,\":\")\n",
    "    for i in range(1,n+1):\n",
    "        print(i)\n",
    "    sum_of_numbers=0\n",
    "    i=1\n",
    "    while i<=n:\n",
    "        sum_of_numbers+=1\n",
    "        i+=1\n",
    "    print(\"Sum of numbers from 1 to\",n,\":\",sum_of_numbers) \n",
    "if __name__==\"__main__\":\n",
    "    n=int(input(\"Enter a positive interger: \"))\n",
    "    print_sum(n)"
   ]
  },
  {
   "cell_type": "code",
   "execution_count": 4,
   "id": "5d4b7bdd",
   "metadata": {},
   "outputs": [
    {
     "name": "stdout",
     "output_type": "stream",
     "text": [
      "Enter a positive integer: 11\n",
      "The square of 11 is 121\n"
     ]
    }
   ],
   "source": [
    "def calculate_square(n):\n",
    "    return n*n\n",
    "if __name__==\"__main__\":\n",
    "    try:\n",
    "        user_input=int(input(\"Enter a positive integer: \"))\n",
    "        if user_input<=0:\n",
    "            print(\"Please Enter a positive integer.\")\n",
    "        else:\n",
    "            square=calculate_square(user_input)\n",
    "            print(\"The square of\",user_input,\"is\",square)\n",
    "    except ValveError:\n",
    "        print(\"Invalid input. Please Enter an interger.\")"
   ]
  },
  {
   "cell_type": "code",
   "execution_count": null,
   "id": "36803c60",
   "metadata": {},
   "outputs": [],
   "source": []
  }
 ],
 "metadata": {
  "kernelspec": {
   "display_name": "Python 3 (ipykernel)",
   "language": "python",
   "name": "python3"
  },
  "language_info": {
   "codemirror_mode": {
    "name": "ipython",
    "version": 3
   },
   "file_extension": ".py",
   "mimetype": "text/x-python",
   "name": "python",
   "nbconvert_exporter": "python",
   "pygments_lexer": "ipython3",
   "version": "3.11.5"
  }
 },
 "nbformat": 4,
 "nbformat_minor": 5
}
