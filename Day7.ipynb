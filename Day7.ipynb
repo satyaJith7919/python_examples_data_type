{
 "cells": [
  {
   "cell_type": "markdown",
   "id": "9386bc57",
   "metadata": {},
   "source": [
    "def fucnctionName(parameter):\n",
    "    block of code\n",
    "    return output"
   ]
  },
  {
   "cell_type": "code",
   "execution_count": 7,
   "id": "a36e2d32",
   "metadata": {},
   "outputs": [],
   "source": [
    "def calArea(r):\n",
    "    a=3.14*r*r\n",
    "    return a\n",
    "    #print(a)"
   ]
  },
  {
   "cell_type": "code",
   "execution_count": 8,
   "id": "e6cf79e6",
   "metadata": {},
   "outputs": [
    {
     "data": {
      "text/plain": [
       "388.9734660000001"
      ]
     },
     "execution_count": 8,
     "metadata": {},
     "output_type": "execute_result"
    }
   ],
   "source": [
    "calArea(11.13)"
   ]
  },
  {
   "cell_type": "code",
   "execution_count": 9,
   "id": "96b06e20",
   "metadata": {},
   "outputs": [
    {
     "data": {
      "text/plain": [
       "314.0"
      ]
     },
     "execution_count": 9,
     "metadata": {},
     "output_type": "execute_result"
    }
   ],
   "source": [
    "w=calArea(10)\n",
    "w"
   ]
  },
  {
   "cell_type": "code",
   "execution_count": 10,
   "id": "584cea3b",
   "metadata": {},
   "outputs": [
    {
     "data": {
      "text/plain": [
       "float"
      ]
     },
     "execution_count": 10,
     "metadata": {},
     "output_type": "execute_result"
    }
   ],
   "source": [
    "type(w)"
   ]
  },
  {
   "cell_type": "code",
   "execution_count": 11,
   "id": "01b076c7",
   "metadata": {},
   "outputs": [
    {
     "data": {
      "text/plain": [
       "320.0"
      ]
     },
     "execution_count": 11,
     "metadata": {},
     "output_type": "execute_result"
    }
   ],
   "source": [
    "w+6"
   ]
  },
  {
   "cell_type": "code",
   "execution_count": 12,
   "id": "8f6f81c7",
   "metadata": {},
   "outputs": [],
   "source": [
    "def areaRect(l,w):\n",
    "    a=l*w\n",
    "    return a"
   ]
  },
  {
   "cell_type": "code",
   "execution_count": 13,
   "id": "be89b635",
   "metadata": {},
   "outputs": [
    {
     "data": {
      "text/plain": [
       "143"
      ]
     },
     "execution_count": 13,
     "metadata": {},
     "output_type": "execute_result"
    }
   ],
   "source": [
    "areaRect(11,13)"
   ]
  },
  {
   "cell_type": "code",
   "execution_count": 14,
   "id": "93a2eac7",
   "metadata": {},
   "outputs": [
    {
     "data": {
      "text/plain": [
       "70"
      ]
     },
     "execution_count": 14,
     "metadata": {},
     "output_type": "execute_result"
    }
   ],
   "source": [
    "areaRect(w=10,l=7)"
   ]
  },
  {
   "cell_type": "code",
   "execution_count": 15,
   "id": "5c5eb217",
   "metadata": {},
   "outputs": [],
   "source": [
    "def area(r,l,w):\n",
    "    a_c=3.14*r*r\n",
    "    a_r=l*w\n",
    "    return a_c,a_r"
   ]
  },
  {
   "cell_type": "code",
   "execution_count": 16,
   "id": "e9f35d73",
   "metadata": {},
   "outputs": [
    {
     "data": {
      "text/plain": [
       "(78.5, 150)"
      ]
     },
     "execution_count": 16,
     "metadata": {},
     "output_type": "execute_result"
    }
   ],
   "source": [
    "area(5,10,15)"
   ]
  },
  {
   "cell_type": "code",
   "execution_count": 37,
   "id": "e81d5fa9",
   "metadata": {},
   "outputs": [
    {
     "data": {
      "text/plain": [
       "'HyderabAAd 500008 Telangana'"
      ]
     },
     "execution_count": 37,
     "metadata": {},
     "output_type": "execute_result"
    }
   ],
   "source": [
    "t='HyderabAAd 500008 Telangana'\n",
    "t"
   ]
  },
  {
   "cell_type": "code",
   "execution_count": 38,
   "id": "9bfef446",
   "metadata": {},
   "outputs": [],
   "source": [
    "def count_A(x):\n",
    "    c=x.lower()\n",
    "    b=c.count('a')\n",
    "    return b"
   ]
  },
  {
   "cell_type": "code",
   "execution_count": 39,
   "id": "d9e899f4",
   "metadata": {},
   "outputs": [
    {
     "data": {
      "text/plain": [
       "6"
      ]
     },
     "execution_count": 39,
     "metadata": {},
     "output_type": "execute_result"
    }
   ],
   "source": [
    "count_A(t)"
   ]
  },
  {
   "cell_type": "code",
   "execution_count": 44,
   "id": "d678d580",
   "metadata": {},
   "outputs": [],
   "source": [
    "def count_A_N(x):\n",
    "    a=0\n",
    "    n=0\n",
    "    for i in x:\n",
    "        if i.isalpha():\n",
    "            a+=1\n",
    "        elif i.isnumeric():\n",
    "            n+=1\n",
    "    return a,n        "
   ]
  },
  {
   "cell_type": "code",
   "execution_count": 45,
   "id": "6c33c22b",
   "metadata": {},
   "outputs": [
    {
     "data": {
      "text/plain": [
       "(19, 6)"
      ]
     },
     "execution_count": 45,
     "metadata": {},
     "output_type": "execute_result"
    }
   ],
   "source": [
    "count_A_N(t)"
   ]
  },
  {
   "cell_type": "code",
   "execution_count": null,
   "id": "15e0c796",
   "metadata": {},
   "outputs": [],
   "source": []
  }
 ],
 "metadata": {
  "kernelspec": {
   "display_name": "Python 3 (ipykernel)",
   "language": "python",
   "name": "python3"
  },
  "language_info": {
   "codemirror_mode": {
    "name": "ipython",
    "version": 3
   },
   "file_extension": ".py",
   "mimetype": "text/x-python",
   "name": "python",
   "nbconvert_exporter": "python",
   "pygments_lexer": "ipython3",
   "version": "3.11.5"
  }
 },
 "nbformat": 4,
 "nbformat_minor": 5
}
